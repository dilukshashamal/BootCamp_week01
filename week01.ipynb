{
 "cells": [
  {
   "cell_type": "code",
   "execution_count": 1,
   "metadata": {},
   "outputs": [],
   "source": [
    "import pymupdf"
   ]
  },
  {
   "cell_type": "code",
   "execution_count": 2,
   "metadata": {},
   "outputs": [],
   "source": [
    "pdf = pymupdf.open(\"research_paper.pdf\")"
   ]
  },
  {
   "cell_type": "code",
   "execution_count": 3,
   "metadata": {},
   "outputs": [
    {
     "name": "stdout",
     "output_type": "stream",
     "text": [
      "Number of pages in the PDF document:  17\n"
     ]
    }
   ],
   "source": [
    "# 1. How many pages are in the PDF document?\n",
    "print(\"Number of pages in the PDF document: \", pdf.page_count)"
   ]
  },
  {
   "cell_type": "code",
   "execution_count": 4,
   "metadata": {},
   "outputs": [
    {
     "name": "stdout",
     "output_type": "stream",
     "text": [
      "Height of the first page:  782.9290161132812\n",
      "Width of the first page:  576.0\n"
     ]
    }
   ],
   "source": [
    "# 2. What is the height of the first page?\n",
    "first_page = pdf[0]\n",
    "print(\"Height of the first page: \", first_page.mediabox[3])\n",
    "\n",
    "# 3. What is the width of the first page?\n",
    "print(\"Width of the first page: \", first_page.mediabox[2])"
   ]
  },
  {
   "cell_type": "code",
   "execution_count": 5,
   "metadata": {},
   "outputs": [
    {
     "name": "stdout",
     "output_type": "stream",
     "text": [
      "Width: 800.0 pixels, Height: 1087.401411268446 pixels at 100 PPI\n"
     ]
    }
   ],
   "source": [
    "# Select the first page (index 0)\n",
    "first_page = pdf[0]\n",
    "\n",
    "# Get the page size in points\n",
    "page_size = first_page.mediabox_size\n",
    "\n",
    "# Convert points to inches (1 point = 1/72 inch)\n",
    "width_in_inches = page_size[0] / 72\n",
    "height_in_inches = page_size[1] / 72\n",
    "\n",
    "# Convert inches to pixels at 100 PPI\n",
    "ppi = 100\n",
    "width_in_pixels = width_in_inches * ppi\n",
    "height_in_pixels = height_in_inches * ppi\n",
    "\n",
    "print(f\"Width: {width_in_pixels} pixels, Height: {height_in_pixels} pixels at {ppi} PPI\")"
   ]
  },
  {
   "cell_type": "code",
   "execution_count": 6,
   "metadata": {},
   "outputs": [],
   "source": [
    "first_page = pdf.load_page(0)\n",
    "ppi = 100\n",
    "pix = first_page.get_pixmap(dpi=ppi)\n",
    "output_path=\"first_page_image.png\"\n",
    "pix.save(output_path)"
   ]
  },
  {
   "cell_type": "code",
   "execution_count": 7,
   "metadata": {},
   "outputs": [],
   "source": [
    "first_page_text = first_page.get_text().encode(\"utf8\")\n",
    "\n",
    "with open(\"first_page_text.txt\", \"wb\") as out:\n",
    "    out.write(first_page_text)"
   ]
  },
  {
   "cell_type": "code",
   "execution_count": 9,
   "metadata": {},
   "outputs": [],
   "source": [
    "from paddleocr import PaddleOCR,draw_ocr"
   ]
  },
  {
   "cell_type": "code",
   "execution_count": 10,
   "metadata": {},
   "outputs": [
    {
     "name": "stdout",
     "output_type": "stream",
     "text": [
      "download https://paddleocr.bj.bcebos.com/PP-OCRv3/english/en_PP-OCRv3_det_infer.tar to C:\\Users\\Diluksha Shamal/.paddleocr/whl\\det\\en\\en_PP-OCRv3_det_infer\\en_PP-OCRv3_det_infer.tar\n"
     ]
    },
    {
     "name": "stderr",
     "output_type": "stream",
     "text": [
      "100%|██████████| 4.00M/4.00M [00:09<00:00, 403kiB/s] \n"
     ]
    },
    {
     "name": "stdout",
     "output_type": "stream",
     "text": [
      "download https://paddleocr.bj.bcebos.com/PP-OCRv4/english/en_PP-OCRv4_rec_infer.tar to C:\\Users\\Diluksha Shamal/.paddleocr/whl\\rec\\en\\en_PP-OCRv4_rec_infer\\en_PP-OCRv4_rec_infer.tar\n"
     ]
    },
    {
     "name": "stderr",
     "output_type": "stream",
     "text": [
      "100%|██████████| 10.2M/10.2M [00:27<00:00, 372kiB/s] \n"
     ]
    },
    {
     "name": "stdout",
     "output_type": "stream",
     "text": [
      "download https://paddleocr.bj.bcebos.com/dygraph_v2.0/ch/ch_ppocr_mobile_v2.0_cls_infer.tar to C:\\Users\\Diluksha Shamal/.paddleocr/whl\\cls\\ch_ppocr_mobile_v2.0_cls_infer\\ch_ppocr_mobile_v2.0_cls_infer.tar\n"
     ]
    },
    {
     "name": "stderr",
     "output_type": "stream",
     "text": [
      "100%|██████████| 2.19M/2.19M [00:07<00:00, 278kiB/s] "
     ]
    },
    {
     "name": "stdout",
     "output_type": "stream",
     "text": [
      "[2024/09/30 16:07:13] ppocr DEBUG: Namespace(help='==SUPPRESS==', use_gpu=False, use_xpu=False, use_npu=False, use_mlu=False, ir_optim=True, use_tensorrt=False, min_subgraph_size=15, precision='fp32', gpu_mem=500, gpu_id=0, image_dir=None, page_num=0, det_algorithm='DB', det_model_dir='C:\\\\Users\\\\Diluksha Shamal/.paddleocr/whl\\\\det\\\\en\\\\en_PP-OCRv3_det_infer', det_limit_side_len=960, det_limit_type='max', det_box_type='quad', det_db_thresh=0.3, det_db_box_thresh=0.6, det_db_unclip_ratio=1.5, max_batch_size=10, use_dilation=False, det_db_score_mode='fast', det_east_score_thresh=0.8, det_east_cover_thresh=0.1, det_east_nms_thresh=0.2, det_sast_score_thresh=0.5, det_sast_nms_thresh=0.2, det_pse_thresh=0, det_pse_box_thresh=0.85, det_pse_min_area=16, det_pse_scale=1, scales=[8, 16, 32], alpha=1.0, beta=1.0, fourier_degree=5, rec_algorithm='SVTR_LCNet', rec_model_dir='C:\\\\Users\\\\Diluksha Shamal/.paddleocr/whl\\\\rec\\\\en\\\\en_PP-OCRv4_rec_infer', rec_image_inverse=True, rec_image_shape='3, 48, 320', rec_batch_num=6, max_text_length=25, rec_char_dict_path='c:\\\\Users\\\\Diluksha Shamal\\\\anaconda3\\\\envs\\\\venv\\\\lib\\\\site-packages\\\\paddleocr\\\\ppocr\\\\utils\\\\en_dict.txt', use_space_char=True, vis_font_path='./doc/fonts/simfang.ttf', drop_score=0.5, e2e_algorithm='PGNet', e2e_model_dir=None, e2e_limit_side_len=768, e2e_limit_type='max', e2e_pgnet_score_thresh=0.5, e2e_char_dict_path='./ppocr/utils/ic15_dict.txt', e2e_pgnet_valid_set='totaltext', e2e_pgnet_mode='fast', use_angle_cls=True, cls_model_dir='C:\\\\Users\\\\Diluksha Shamal/.paddleocr/whl\\\\cls\\\\ch_ppocr_mobile_v2.0_cls_infer', cls_image_shape='3, 48, 192', label_list=['0', '180'], cls_batch_num=6, cls_thresh=0.9, enable_mkldnn=False, cpu_threads=10, use_pdserving=False, warmup=False, sr_model_dir=None, sr_image_shape='3, 32, 128', sr_batch_num=1, draw_img_save_dir='./inference_results', save_crop_res=False, crop_res_save_dir='./output', use_mp=False, total_process_num=1, process_id=0, benchmark=False, save_log_path='./log_output/', show_log=True, use_onnx=False, return_word_box=False, output='./output', table_max_len=488, table_algorithm='TableAttn', table_model_dir=None, merge_no_span_structure=True, table_char_dict_path=None, layout_model_dir=None, layout_dict_path=None, layout_score_threshold=0.5, layout_nms_threshold=0.5, kie_algorithm='LayoutXLM', ser_model_dir=None, re_model_dir=None, use_visual_backbone=True, ser_dict_path='../train_data/XFUND/class_list_xfun.txt', ocr_order_method=None, mode='structure', image_orientation=False, layout=True, table=True, ocr=True, recovery=False, use_pdf2docx_api=False, invert=False, binarize=False, alphacolor=(255, 255, 255), lang='en', det=True, rec=True, type='ocr', savefile=False, ocr_version='PP-OCRv4', structure_version='PP-StructureV2')\n"
     ]
    },
    {
     "name": "stderr",
     "output_type": "stream",
     "text": [
      "\n"
     ]
    }
   ],
   "source": [
    "ocr = PaddleOCR(use_angle_cls=True, lang='en')"
   ]
  },
  {
   "cell_type": "code",
   "execution_count": 11,
   "metadata": {},
   "outputs": [
    {
     "name": "stdout",
     "output_type": "stream",
     "text": [
      "[2024/09/30 16:07:58] ppocr DEBUG: dt_boxes num : 58, elapsed : 0.833467960357666\n",
      "[2024/09/30 16:07:58] ppocr DEBUG: cls num  : 58, elapsed : 0.26983141899108887\n",
      "[2024/09/30 16:08:19] ppocr DEBUG: rec_res num  : 58, elapsed : 20.797502756118774\n",
      "[[[615.0, 21.0], [742.0, 24.0], [742.0, 48.0], [615.0, 45.0]], ('IEEEAccess', 0.9908890724182129)]\n",
      "[[[49.0, 86.0], [635.0, 86.0], [635.0, 101.0], [49.0, 101.0]], ('Received December 9, 2020, accepted January 9, 2021, date of publication January 19, 2021, date of current version February 22, 2021.', 0.9877128005027771)]\n",
      "[[[49.0, 107.0], [243.0, 107.0], [243.0, 118.0], [49.0, 118.0]], ('Digital Object Identifier 10. 1109/ACCESS.2021.3052867', 0.9849089980125427)]\n",
      "[[[49.0, 155.0], [543.0, 154.0], [543.0, 185.0], [49.0, 186.0]], ('Lightweight Cryptography Algorithms for.', 0.9783073663711548)]\n",
      "[[[51.0, 192.0], [584.0, 193.0], [584.0, 216.0], [51.0, 215.0]], ('Resource-Constrained IoT Devices: A Review', 0.995331346988678)]\n",
      "[[[51.0, 227.0], [534.0, 227.0], [534.0, 253.0], [51.0, 253.0]], ('Comparison and Research Opportunities', 0.9687739014625549)]\n",
      "[[[48.0, 278.0], [522.0, 279.0], [522.0, 298.0], [48.0, 297.0]], ('VISHAL A. THAKOR, MOHAMMAD ABDUR RAZZAQUEO1, (Member, IEEE),', 0.9566749334335327)]\n",
      "[[[49.0, 297.0], [458.0, 297.0], [458.0, 316.0], [49.0, 316.0]], ('AND MUHAMMAD R. A. KHANDAKERO2, (Senior Member, IEEE)', 0.9721999168395996)]\n",
      "[[[50.0, 314.0], [474.0, 313.0], [474.0, 328.0], [50.0, 329.0]], ('School of Computing, Engineering, and Digital Technologies, Teesside University, Middlesbrough TS1 3BX, U.K.', 0.990105926990509)]\n",
      "[[[49.0, 325.0], [415.0, 325.0], [415.0, 340.0], [49.0, 340.0]], ('School of Engineering and Physical Sciences, Heriot-Watt University, Edinburgh EH14 4AS, U.K.', 0.9893286824226379)]\n",
      "[[[49.0, 341.0], [386.0, 342.0], [386.0, 355.0], [49.0, 354.0]], ('Corresponding author: Mohammad Abdur Razzaque (m.razzaque@tees.ac.uk)', 0.9874973297119141)]\n",
      "[[[49.0, 362.0], [615.0, 362.0], [615.0, 376.0], [49.0, 376.0]], ('This research was partially funded by the Newton Fund - Institutional Links from British Council and National Research Council of', 0.9901986122131348)]\n",
      "[[[50.0, 376.0], [226.0, 376.0], [226.0, 388.0], [50.0, 388.0]], ('Thailand with the grant ID is 527643161.', 0.9856602549552917)]\n",
      "[[[49.0, 425.0], [653.0, 427.0], [653.0, 443.0], [49.0, 441.0]], (': ABsTRAcT IoT is becoming more common and popular due to its wide range of applications in various.', 0.9814027547836304)]\n",
      "[[[58.0, 444.0], [652.0, 445.0], [652.0, 460.0], [58.0, 459.0]], ('domains. They collect data from the real environment and transfer it over the networks. There are many', 0.985603392124176)]\n",
      "[[[59.0, 462.0], [653.0, 462.0], [653.0, 477.0], [59.0, 477.0]], ('challenges while deploying IoT in a real-world, varying from tiny sensors to servers. Security is considered', 0.9958785176277161)]\n",
      "[[[59.0, 478.0], [652.0, 478.0], [652.0, 493.0], [59.0, 493.0]], ('as the number one challenge in IoT deployments, as most of the IoT devices are physically accessible in', 0.9957963228225708)]\n",
      "[[[59.0, 495.0], [655.0, 495.0], [655.0, 510.0], [59.0, 510.0]], ('the real world and many of them are limited in resources (such as energy, memory, processing power and', 0.9930518865585327)]\n",
      "[[[60.0, 511.0], [653.0, 511.0], [653.0, 526.0], [60.0, 526.0]], ('even physical space). In this paper, we are focusing on these resource-constrained IoT devices (such as', 0.9932327270507812)]\n",
      "[[[60.0, 528.0], [651.0, 528.0], [651.0, 543.0], [60.0, 543.0]], ('RFID tags, sensors, smart cards, etc.) as securing them in such circumstances is a challenging task. The', 0.9993162751197815)]\n",
      "[[[59.0, 545.0], [652.0, 545.0], [652.0, 560.0], [59.0, 560.0]], ('communication from such devices can be secured by a mean of lightweight cryptography, a lighter version', 0.9990051984786987)]\n",
      "[[[59.0, 561.0], [652.0, 561.0], [652.0, 576.0], [59.0, 576.0]], ('of cryptography. More than fifty lightweight cryptography (plain encryption) algorithms are available in', 0.9947072267532349)]\n",
      "[[[59.0, 578.0], [655.0, 578.0], [655.0, 593.0], [59.0, 593.0]], ('the market with a focus on a specific application(s), and another 57 algorithms have been submitted by the', 0.9921771883964539)]\n",
      "[[[59.0, 594.0], [653.0, 594.0], [653.0, 609.0], [59.0, 609.0]], ('researchers to the NIST competition recently. To provide a holistic view of the area, in this paper, we have', 0.9911587238311768)]\n",
      "[[[59.0, 611.0], [655.0, 611.0], [655.0, 626.0], [59.0, 626.0]], ('compared the existing algorithms in terms of implementation cost, hardware and software performances and', 0.996140718460083)]\n",
      "[[[59.0, 628.0], [655.0, 628.0], [655.0, 643.0], [59.0, 643.0]], ('attack resistance properties. Also, we have discussed the demand and a direction for new research in the area', 0.9949613809585571)]\n",
      "[[[58.0, 643.0], [555.0, 644.0], [555.0, 660.0], [58.0, 658.0]], ('of lightweight cryptography to optimize balance amongst cost, performance and security.', 0.993323028087616)]\n",
      "[[[48.0, 681.0], [485.0, 683.0], [485.0, 703.0], [48.0, 700.0]], (' INDEX TERMS IoT, lightweight, cryptography, sensors, RFID, smart cards.', 0.981033444404602)]\n",
      "[[[49.0, 714.0], [157.0, 714.0], [157.0, 729.0], [49.0, 729.0]], ('I. INTRODUCTION', 0.9758617281913757)]\n",
      "[[[555.0, 719.0], [605.0, 722.0], [604.0, 739.0], [554.0, 736.0]], ('IoT Devices', 0.979454755783081)]\n",
      "[[[49.0, 731.0], [156.0, 731.0], [156.0, 746.0], [49.0, 746.0]], ('A. IoT OVERVIEW', 0.9026165008544922)]\n",
      "[[[49.0, 750.0], [388.0, 750.0], [388.0, 765.0], [49.0, 765.0]], ('Internet of Things (IoT) has already become a dominant', 0.9996147155761719)]\n",
      "[[[50.0, 767.0], [388.0, 767.0], [388.0, 782.0], [50.0, 782.0]], ('research era because of its applications in various domains', 0.995070219039917)]\n",
      "[[[49.0, 783.0], [388.0, 783.0], [388.0, 798.0], [49.0, 798.0]], ('such as smart transport & logistics, smart healthcare, smart', 0.9943397045135498)]\n",
      "[[[50.0, 800.0], [385.0, 800.0], [385.0, 815.0], [50.0, 815.0]], ('environment, smart infrastructure (smart cities, smart homes,', 0.9969825744628906)]\n",
      "[[[50.0, 817.0], [386.0, 817.0], [386.0, 832.0], [50.0, 832.0]], ('smart offices, smart malls, Industry 4.0), smart agriculture', 0.978818953037262)]\n",
      "[[[644.0, 814.0], [712.0, 814.0], [712.0, 822.0], [644.0, 822.0]], ('Poor in Resource:.', 0.9504664540290833)]\n",
      "[[[50.0, 833.0], [388.0, 833.0], [388.0, 848.0], [50.0, 848.0]], ('and many more. Many researchers and industry experts have', 0.9994800686836243)]\n",
      "[[[50.0, 850.0], [385.0, 850.0], [385.0, 865.0], [50.0, 865.0]], ('given various definitions of IoT depending on their applica-', 0.9987548589706421)]\n",
      "[[[411.0, 845.0], [626.0, 845.0], [626.0, 860.0], [411.0, 860.0]], ('FIGURE 1. Two main categories of loT Devices.', 0.9863499402999878)]\n",
      "[[[50.0, 866.0], [388.0, 866.0], [388.0, 881.0], [50.0, 881.0]], ('tions and implementation area, but in simple words, IoT is', 0.9967041015625)]\n",
      "[[[50.0, 883.0], [384.0, 883.0], [384.0, 898.0], [50.0, 898.0]], ('a network of connected things, each with a unique identifi-', 0.9934653639793396)]\n",
      "[[[411.0, 887.0], [749.0, 887.0], [749.0, 902.0], [411.0, 902.0]], ('rich in resources such as servers, personal computers, tablets', 0.9995648264884949)]\n",
      "[[[49.0, 900.0], [388.0, 900.0], [388.0, 915.0], [49.0, 915.0]], ('cation, able to collect and exchange data over the Internet', 0.9921480417251587)]\n",
      "[[[410.0, 904.0], [747.0, 904.0], [747.0, 919.0], [410.0, 919.0]], ('and smartphones, etc. and limited in resources (resource-', 0.9909836649894714)]\n",
      "[[[50.0, 916.0], [386.0, 916.0], [386.0, 930.0], [50.0, 930.0]], ('with or without human interaction [1][5]. In any IoT solution', 0.9787818193435669)]\n",
      "[[[411.0, 921.0], [748.0, 921.0], [748.0, 936.0], [411.0, 936.0]], ('constrained) such as industrial sensors or sensor nodes, RFID', 0.9954925179481506)]\n",
      "[[[49.0, 933.0], [386.0, 933.0], [386.0, 947.0], [49.0, 947.0]], ('or application, IoT devices are the key elements. These IoT', 0.9899763464927673)]\n",
      "[[[48.0, 947.0], [386.0, 949.0], [386.0, 964.0], [48.0, 963.0]], ('devices could be divided into two main categories (Figure 1):', 0.9857091903686523)]\n",
      "[[[411.0, 938.0], [749.0, 938.0], [749.0, 953.0], [411.0, 953.0]], ('tags, actuators, etc., [6]. In this paper, we focus on the second', 0.9904604554176331)]\n",
      "[[[411.0, 954.0], [747.0, 954.0], [747.0, 969.0], [411.0, 969.0]], ('category of IoT devices. These connected devices are becom-', 0.9901841878890991)]\n",
      "[[[411.0, 970.0], [748.0, 970.0], [748.0, 985.0], [411.0, 985.0]], ('ing more popular due to their use in various application and', 0.9877443313598633)]\n",
      "[[[61.0, 985.0], [388.0, 986.0], [387.0, 1002.0], [61.0, 1001.0]], ('The associate editor coordinating the review of this manuscript and', 0.9908550977706909)]\n",
      "[[[410.0, 986.0], [748.0, 987.0], [748.0, 1003.0], [410.0, 1002.0]], ('will flood the market with the emergence of IoT [6], leading', 0.979678213596344)]\n",
      "[[[409.0, 1003.0], [664.0, 1004.0], [664.0, 1020.0], [409.0, 1019.0]], ('an enormous data exchange rate amongst [7].', 0.9954002499580383)]\n",
      "[[[49.0, 1042.0], [115.0, 1042.0], [115.0, 1054.0], [49.0, 1054.0]], ('VOLUME 9, 2021', 0.9886577725410461)]\n",
      "[[[125.0, 1036.0], [669.0, 1036.0], [669.0, 1051.0], [125.0, 1051.0]], ('This work is licensed under a Creative Commons Attribution 4.0 License. For more information, see https:/creativecommons.org/licenses/by/4.0/', 0.9817826151847839)]\n",
      "[[[716.0, 1040.0], [750.0, 1040.0], [750.0, 1056.0], [716.0, 1056.0]], ('28177', 0.9990459680557251)]\n"
     ]
    }
   ],
   "source": [
    "from PIL import Image\n",
    "\n",
    "image_path =\"first_page_image.png\"\n",
    "\n",
    "ocr_result = ocr.ocr(image_path, cls=True)\n",
    "\n",
    "for idx in range(len(ocr_result)):\n",
    "    res = ocr_result[idx]\n",
    "    for line in res:\n",
    "        print(line)"
   ]
  },
  {
   "cell_type": "code",
   "execution_count": 13,
   "metadata": {},
   "outputs": [],
   "source": [
    "# draw result\n",
    "result = ocr_result[0]\n",
    "image = Image.open(image_path).convert('RGB')\n",
    "\n",
    "boxes = [elements[0] for elements in result]\n",
    "txts = [elements[1][0] for elements in result]\n",
    "scores = [elements[1][1] for elements in result]\n",
    "\n",
    "im_show = draw_ocr(image, boxes, txts, scores, font_path='Ubuntu-L.ttf')\n",
    "im_show = Image.fromarray(im_show)\n",
    "im_show.save(\"first_page_annotation.png\")"
   ]
  },
  {
   "cell_type": "code",
   "execution_count": null,
   "metadata": {},
   "outputs": [],
   "source": []
  }
 ],
 "metadata": {
  "kernelspec": {
   "display_name": "venv",
   "language": "python",
   "name": "python3"
  },
  "language_info": {
   "codemirror_mode": {
    "name": "ipython",
    "version": 3
   },
   "file_extension": ".py",
   "mimetype": "text/x-python",
   "name": "python",
   "nbconvert_exporter": "python",
   "pygments_lexer": "ipython3",
   "version": "3.10.15"
  }
 },
 "nbformat": 4,
 "nbformat_minor": 2
}
